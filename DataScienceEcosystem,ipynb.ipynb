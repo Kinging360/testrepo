{
 "cells": [
  {
   "cell_type": "markdown",
   "id": "4ab4ee8e",
   "metadata": {},
   "source": [
    "# Data Science Tools and Ecosystem"
   ]
  },
  {
   "cell_type": "markdown",
   "id": "fa46b1b2",
   "metadata": {},
   "source": [
    "In this notebook, Data Science Tools and Ecosystem are summarized."
   ]
  },
  {
   "cell_type": "markdown",
   "id": "fc905cbd",
   "metadata": {},
   "source": [
    "Some of the popular languages that Data Scientists use are:\\\n",
    "    python\\\n",
    "    R\\\n",
    "    SQL\\\n",
    "    Scala"
   ]
  },
  {
   "cell_type": "markdown",
   "id": "3e50f8fb",
   "metadata": {},
   "source": [
    "Some of the commonly used libraries used by Data Scientists include:"
   ]
  },
  {
   "cell_type": "markdown",
   "id": "84bc3a96",
   "metadata": {},
   "source": [
    "Pandas\\\n",
    "Scipy\\\n",
    "Numpy\\\n",
    "Matplotlib"
   ]
  },
  {
   "cell_type": "markdown",
   "id": "9702143b",
   "metadata": {},
   "source": [
    "| Data Science Tools     |\n",
    "|------------------------|\n",
    "| Jupyter Notebooks      |\n",
    "| RStudio                |\n",
    "| Apache Zeppelin        |\n"
   ]
  },
  {
   "cell_type": "markdown",
   "id": "f8ed8fcf",
   "metadata": {},
   "source": [
    "### Below are a few examples of evaluating arithmetic expressions in Python"
   ]
  },
  {
   "cell_type": "code",
   "execution_count": 8,
   "id": "9f7229e3",
   "metadata": {},
   "outputs": [
    {
     "name": "stdout",
     "output_type": "stream",
     "text": [
      "The answer is 17\n"
     ]
    }
   ],
   "source": [
    "#This a simple arithmetic expression to mutiply then add integers\n",
    "problem = (3*4)+5\n",
    "\n",
    "print(\"The answer is\", problem)"
   ]
  },
  {
   "cell_type": "code",
   "execution_count": 10,
   "id": "b5c20f85",
   "metadata": {},
   "outputs": [
    {
     "name": "stdout",
     "output_type": "stream",
     "text": [
      "200 minutes in hours is 3.3333333333333335 hours\n"
     ]
    }
   ],
   "source": [
    "problem = 200/60\n",
    "print(\"200 minutes in hours is\", problem, \"hours\")"
   ]
  },
  {
   "cell_type": "markdown",
   "id": "e6238fd1",
   "metadata": {},
   "source": [
    "**Objectives:** \\\n",
    "python\\\n",
    "Java\\\n",
    "R"
   ]
  },
  {
   "cell_type": "markdown",
   "id": "a0108541",
   "metadata": {},
   "source": [
    "## Author\n",
    "\n",
    "Chukwuemerie Igbokwe"
   ]
  },
  {
   "cell_type": "code",
   "execution_count": null,
   "id": "968bd371",
   "metadata": {},
   "outputs": [],
   "source": []
  }
 ],
 "metadata": {
  "kernelspec": {
   "display_name": "Python 3 (ipykernel)",
   "language": "python",
   "name": "python3"
  },
  "language_info": {
   "codemirror_mode": {
    "name": "ipython",
    "version": 3
   },
   "file_extension": ".py",
   "mimetype": "text/x-python",
   "name": "python",
   "nbconvert_exporter": "python",
   "pygments_lexer": "ipython3",
   "version": "3.11.4"
  }
 },
 "nbformat": 4,
 "nbformat_minor": 5
}
