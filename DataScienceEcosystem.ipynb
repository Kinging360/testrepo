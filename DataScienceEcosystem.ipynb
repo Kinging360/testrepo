{
 "cells": [
  {
   "cell_type": "markdown",
   "id": "1a94c187",
   "metadata": {},
   "source": [
    "# Data Science Tools and Ecosystem\n"
   ]
  },
  {
   "cell_type": "markdown",
   "id": "c9bad680",
   "metadata": {},
   "source": [
    "In this notebook, Data Science Tools and Ecosystem are summarized."
   ]
  },
  {
   "cell_type": "markdown",
   "id": "244e52fb",
   "metadata": {},
   "source": [
    "Some of the popular languages that Data Scientists use are:"
   ]
  },
  {
   "cell_type": "code",
   "execution_count": 2,
   "id": "3f9f43fa",
   "metadata": {},
   "outputs": [
    {
     "name": "stdout",
     "output_type": "stream",
     "text": [
      "1. Python\n",
      "2. R\n",
      "3. SQL\n",
      "4. Java\n"
     ]
    }
   ],
   "source": [
    "data_science_languages = [\n",
    "    \"Python\",\n",
    "    \"R\",\n",
    "    \"SQL\",\n",
    "    \"Java\"\n",
    "]\n",
    "numbered_list = \"\\n\".join(f\"{i+1}. {language}\" for i, language in enumerate(data_science_languages))\n",
    "print(numbered_list)\n"
   ]
  },
  {
   "cell_type": "markdown",
   "id": "f53e4174",
   "metadata": {},
   "source": [
    "Some of the commonly used libraries used by Data Scientists include:"
   ]
  },
  {
   "cell_type": "code",
   "execution_count": 9,
   "id": "c7a3c1e4",
   "metadata": {},
   "outputs": [
    {
     "name": "stdout",
     "output_type": "stream",
     "text": [
      "1. Numpy\n",
      "2. Pandas\n",
      "3. Matplotlib\n",
      "4. Scikit-learn\n"
     ]
    }
   ],
   "source": [
    "data_science_libraries = [\n",
    "    \"Numpy\",\n",
    "    \"Pandas\",\n",
    "    \"Matplotlib\",\n",
    "    \"Scikit-learn\"\n",
    "]\n",
    "numbered_list = \"\\n\".join(f\"{i+1}. {library}\" for i, library in enumerate(data_science_libraries))\n",
    "print(numbered_list)"
   ]
  },
  {
   "cell_type": "code",
   "execution_count": 10,
   "id": "895002e0",
   "metadata": {},
   "outputs": [
    {
     "name": "stdout",
     "output_type": "stream",
     "text": [
      "|Data Science Tools|\n",
      "|------------------|\n",
      "| Jupyter Notebook |\n",
      "|     RStudio      |\n",
      "| Apache Zeppelin  |\n"
     ]
    }
   ],
   "source": [
    "header = \"Data Science Tools\"\n",
    "tools = [\"Jupyter Notebook\", \"RStudio\", \"Apache Zeppelin\"]\n",
    "table_width = len(header)\n",
    "print(f\"|{header.center(table_width)}|\")\n",
    "print(\"|\" + \"-\" * table_width + \"|\")\n",
    "for tool in tools:\n",
    "    print(f\"|{tool.center(table_width)}|\")\n"
   ]
  },
  {
   "cell_type": "markdown",
   "id": "ff29fa10",
   "metadata": {},
   "source": [
    "### Below are a few examples of evaluating arithmetic expressions in Python\n"
   ]
  },
  {
   "cell_type": "code",
   "execution_count": 16,
   "id": "63360a4a",
   "metadata": {},
   "outputs": [
    {
     "data": {
      "text/plain": [
       "17"
      ]
     },
     "execution_count": 16,
     "metadata": {},
     "output_type": "execute_result"
    }
   ],
   "source": [
    "(3*4)+5\n",
    "#This a simple arithmetic expression to mutiply then add integers"
   ]
  },
  {
   "cell_type": "code",
   "execution_count": 18,
   "id": "abcdcda5",
   "metadata": {},
   "outputs": [
    {
     "name": "stdout",
     "output_type": "stream",
     "text": [
      "200 minutes is equal to 3.3333333333333335\n"
     ]
    }
   ],
   "source": [
    "x = 200/60\n",
    "print(\"200 minutes is equal to\", x)"
   ]
  },
  {
   "cell_type": "markdown",
   "id": "20e131e6",
   "metadata": {},
   "source": [
    "**Objectives**"
   ]
  },
  {
   "cell_type": "code",
   "execution_count": 20,
   "id": "a3387529",
   "metadata": {},
   "outputs": [
    {
     "name": "stdout",
     "output_type": "stream",
     "text": [
      "Python\n",
      "R\n",
      "SQL\n",
      "Java\n",
      "Julia\n",
      "Scala\n",
      "MATLAB\n"
     ]
    }
   ],
   "source": [
    "data_science_languages = [\"Python\", \"R\", \"SQL\", \"Java\", \"Julia\", \"Scala\", \"MATLAB\"]\n",
    "\n",
    "for language in data_science_languages:\n",
    "    print(language)\n"
   ]
  },
  {
   "cell_type": "markdown",
   "id": "c02e39e5",
   "metadata": {},
   "source": [
    "## Author\n",
    "\n",
    "Chukwuemerie Igbokwe"
   ]
  },
  {
   "cell_type": "code",
   "execution_count": null,
   "id": "0c93f66e",
   "metadata": {},
   "outputs": [],
   "source": []
  }
 ],
 "metadata": {
  "kernelspec": {
   "display_name": "Python 3 (ipykernel)",
   "language": "python",
   "name": "python3"
  },
  "language_info": {
   "codemirror_mode": {
    "name": "ipython",
    "version": 3
   },
   "file_extension": ".py",
   "mimetype": "text/x-python",
   "name": "python",
   "nbconvert_exporter": "python",
   "pygments_lexer": "ipython3",
   "version": "3.11.4"
  }
 },
 "nbformat": 4,
 "nbformat_minor": 5
}
